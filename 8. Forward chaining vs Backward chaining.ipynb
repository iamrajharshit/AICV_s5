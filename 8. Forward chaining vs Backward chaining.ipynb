{
 "cells": [
  {
   "cell_type": "markdown",
   "id": "556d82da",
   "metadata": {},
   "source": [
    "# Forward Chaining"
   ]
  },
  {
   "cell_type": "code",
   "execution_count": 1,
   "id": "7487ab30",
   "metadata": {},
   "outputs": [
    {
     "name": "stdout",
     "output_type": "stream",
     "text": [
      "Derived Facts {'E', 'D', 'A', 'G', 'C'}\n"
     ]
    }
   ],
   "source": [
    "class Rule:\n",
    "    def __init__ (self,antecedents,consequent):\n",
    "        self.antecedents=antecedents\n",
    "        self.consequent=consequent\n",
    "        \n",
    "class KnowledgeBase:\n",
    "    def __init__ (self):\n",
    "        self.facts=set()\n",
    "        self.rules=[]\n",
    "    def add_fact(self,fact):\n",
    "        self.facts.add(fact)\n",
    "    def add_rule(self,rule):\n",
    "        self.rules.append(rule)\n",
    "    def apply_forward_chaining(self):\n",
    "        new_facts_derived=True\n",
    "        while new_facts_derived:\n",
    "            new_facts_derived=False\n",
    "            for rule in self.rules:\n",
    "                if all(antecedents in self.facts for antecedents in rule.antecedents) and rule.consequent not in self.facts:\n",
    "                    self.facts.add(rule.consequent)\n",
    "                    new_facts_derived=True\n",
    "if __name__==\"__main__\":\n",
    "    kb=KnowledgeBase()\n",
    "    rule1=Rule([\"A\",\"C\"],\"E\")\n",
    "    rule2=Rule([\"A\",\"E\"],\"G\")\n",
    "    rule3=Rule([\"B\"],\"E\")\n",
    "    rule4=Rule([\"G\"],\"D\")\n",
    "    kb.add_rule(rule1)\n",
    "    kb.add_rule(rule2)\n",
    "    kb.add_rule(rule3)\n",
    "    kb.add_rule(rule4)\n",
    "    kb.add_fact(\"A\")\n",
    "    kb.add_fact(\"C\")\n",
    "    \n",
    "    kb.apply_forward_chaining()\n",
    "    print(\"Derived Facts\",kb.facts)"
   ]
  },
  {
   "cell_type": "code",
   "execution_count": null,
   "id": "f84d0ed0",
   "metadata": {},
   "outputs": [],
   "source": []
  },
  {
   "cell_type": "markdown",
   "id": "c6c1449e",
   "metadata": {},
   "source": [
    "# Backward Chaining"
   ]
  },
  {
   "cell_type": "code",
   "execution_count": 3,
   "id": "b1f47069",
   "metadata": {},
   "outputs": [
    {
     "name": "stdout",
     "output_type": "stream",
     "text": [
      "The goal 'C' cannot be reached.\n"
     ]
    }
   ],
   "source": [
    "knowledge_base={\n",
    "    \"rule1\":{\n",
    "        \"if\":[\"A\",\"B\"],\n",
    "        \"then\":\"C\"\n",
    "    },\n",
    "    \"rule2\":{\n",
    "        \"if\":[\"D\"],\n",
    "        \"then\":\"A\"\n",
    "    },\n",
    "    \"rule3\":{\n",
    "        \"if\":[\"E\"],\n",
    "        \"then\":\"B\"\n",
    "    },\n",
    "    \"rule4\":{\n",
    "        \"if\":[\"F\"],\n",
    "        \"then\":\"D\"\n",
    "    },\n",
    "    \"rule5\":{\n",
    "        \"if\":[\"G\"],\n",
    "        \"then\":\"E\"\n",
    "    }\n",
    "}\n",
    "def backward_chaining(goal,known_facts):\n",
    "    if goal in known_facts:\n",
    "        return True\n",
    "    for rule,value in knowledge_base.items():\n",
    "        if goal in value[\"if\"]:\n",
    "            all_conditions_met=all(condition in known_facts for conditon in value[\"if\"])\n",
    "            if all_conditions_met and backward_chaining(value[\"then\"],known_facts):\n",
    "                return True\n",
    "    return False\n",
    "\n",
    "goal=\"C\"\n",
    "known_facts=[\"G\",\"F\",\"E\"]\n",
    "\n",
    "if backward_chaining(goal,known_facts):\n",
    "    print(f\"The goal '{goal}' can be reached.\")\n",
    "else:\n",
    "    print(f\"The goal '{goal}' cannot be reached.\")"
   ]
  },
  {
   "cell_type": "code",
   "execution_count": null,
   "id": "b4717391",
   "metadata": {},
   "outputs": [],
   "source": []
  }
 ],
 "metadata": {
  "kernelspec": {
   "display_name": "Python 3 (ipykernel)",
   "language": "python",
   "name": "python3"
  },
  "language_info": {
   "codemirror_mode": {
    "name": "ipython",
    "version": 3
   },
   "file_extension": ".py",
   "mimetype": "text/x-python",
   "name": "python",
   "nbconvert_exporter": "python",
   "pygments_lexer": "ipython3",
   "version": "3.9.16"
  }
 },
 "nbformat": 4,
 "nbformat_minor": 5
}
