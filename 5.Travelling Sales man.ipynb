{
 "cells": [
  {
   "cell_type": "code",
   "execution_count": 1,
   "id": "9317e1b6",
   "metadata": {},
   "outputs": [],
   "source": [
    "import math"
   ]
  },
  {
   "cell_type": "code",
   "execution_count": 3,
   "id": "3c6f58d0",
   "metadata": {},
   "outputs": [
    {
     "name": "stdout",
     "output_type": "stream",
     "text": [
      "optimal Tour: [0, 1, 2, 3, 4, 0]\n"
     ]
    }
   ],
   "source": [
    "#Define a function to calculate the Euclidean deistance bet two points\n",
    "def distance(p1,p2):\n",
    "    return math.sqrt((p1[0] - p2[0])**2 + (p1[1]- p2[1])**2)\n",
    "\n",
    "#Define the NN algo\n",
    "def n_neighbor(ps):\n",
    "    n=len(ps)\n",
    "    unvisited =set(range(n))\n",
    "    tour =[0] #start from the first point\n",
    "    unvisited.remove(0)\n",
    "    \n",
    "    while unvisited:\n",
    "        cur_p =tour[-1]\n",
    "        n_p=min(unvisited,key=lambda x: distance(ps[cur_p],ps[x]))\n",
    "        tour.append(n_p)\n",
    "        unvisited.remove(n_p)\n",
    "        \n",
    "    #complete the tour by treturning to the starting point    \n",
    "    tour.append(tour[0])\n",
    "    return tour\n",
    "        \n",
    "#example\n",
    "if __name__ == '__main__':\n",
    "    #Define the points as (x,y) coordinates\n",
    "    ps=[(0,0),(1,2),(2,3),(3,4),(4,2)]\n",
    "    \n",
    "    #find the tour using the n neighbor algo\n",
    "    tour=n_neighbor(ps)\n",
    "    \n",
    "    print(\"optimal Tour:\",tour)"
   ]
  },
  {
   "cell_type": "code",
   "execution_count": null,
   "id": "444d2e69",
   "metadata": {},
   "outputs": [],
   "source": []
  }
 ],
 "metadata": {
  "kernelspec": {
   "display_name": "Python 3 (ipykernel)",
   "language": "python",
   "name": "python3"
  },
  "language_info": {
   "codemirror_mode": {
    "name": "ipython",
    "version": 3
   },
   "file_extension": ".py",
   "mimetype": "text/x-python",
   "name": "python",
   "nbconvert_exporter": "python",
   "pygments_lexer": "ipython3",
   "version": "3.9.12"
  }
 },
 "nbformat": 4,
 "nbformat_minor": 5
}
